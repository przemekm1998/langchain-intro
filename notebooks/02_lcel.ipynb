{
 "cells": [
  {
   "cell_type": "code",
   "execution_count": 5,
   "id": "initial_id",
   "metadata": {
    "collapsed": true,
    "ExecuteTime": {
     "end_time": "2023-11-30T16:16:44.885569Z",
     "start_time": "2023-11-30T16:16:44.864457Z"
    }
   },
   "outputs": [
    {
     "name": "stdout",
     "output_type": "stream",
     "text": [
      "The dotenv extension is already loaded. To reload it, use:\n",
      "  %reload_ext dotenv\n"
     ]
    }
   ],
   "source": [
    "%load_ext dotenv\n",
    "%dotenv"
   ]
  },
  {
   "cell_type": "markdown",
   "source": [
    "## LCEL\n",
    "\n",
    "To make it as easy as possible to create custom chains, we've implemented a \"Runnable\" protocol. The Runnable protocol is implemented for most components. This is a standard interface, which makes it easy to define custom chains as well as invoke them in a standard way. The standard interface includes:\n",
    "\n",
    "- stream: stream back chunks of the response\n",
    "- invoke: call the chain on an input\n",
    "- batch: call the chain on a list of inputs\n",
    "\n",
    "\n",
    "These also have corresponding async methods:\n",
    "\n",
    "- astream: stream back chunks of the response async\n",
    "- ainvoke: call the chain on an input async\n",
    "- abatch: call the chain on a list of inputs async\n",
    "- astream_log: stream back intermediate steps as they happen, in addition to the final response\n",
    "\n",
    "The input type and output type varies by component:\n",
    "\n",
    "\n",
    "| Component    | Input Type                           | Output Type        |\n",
    "|--------------|--------------------------------------|--------------------|\n",
    "| Prompt       | Dictionary                           | PromptValue        |\n",
    "| ChatModel    | Single string, list of chat messages  | ChatMessage        |\n",
    "| LLM          | Single string, list of chat messages  | String             |\n",
    "| OutputParser | The output of an LLM or ChatModel     | Depends on the parser |\n",
    "| Retriever    | Single string                        | List of Documents  |\n",
    "| Tool         | Single string or dictionary           | Depends on the tool |"
   ],
   "metadata": {
    "collapsed": false
   },
   "id": "fa1f7cbd1263819a"
  },
  {
   "cell_type": "code",
   "execution_count": 6,
   "outputs": [],
   "source": [
    "from langchain.chat_models import ChatOpenAI\n",
    "from langchain.output_parsers import PydanticOutputParser\n",
    "from langchain.prompts import PromptTemplate\n",
    "from pydantic import BaseModel, Field\n",
    "\n",
    "class Joke(BaseModel):\n",
    "    setup: str = Field(description=\"question to set up a joke\")\n",
    "    punchline: str = Field(description=\"answer to resolve the joke\")\n",
    "    \n",
    "joke_parser = PydanticOutputParser(pydantic_object=Joke)\n",
    "\n",
    "joke_template = PromptTemplate.from_template(\"You are a helpful assistant that tells jokes about {joke_topic}. Tell the jokes in {joke_language} language. {format_instructions}\", partial_variables={'format_instructions': joke_parser.get_format_instructions()})\n",
    "\n",
    "chat_model = ChatOpenAI(temperature=0.5)"
   ],
   "metadata": {
    "collapsed": false,
    "ExecuteTime": {
     "end_time": "2023-11-30T16:17:50.002995Z",
     "start_time": "2023-11-30T16:17:49.870485Z"
    }
   },
   "id": "69f1909bcb40a94e"
  },
  {
   "cell_type": "code",
   "execution_count": 8,
   "outputs": [
    {
     "data": {
      "text/plain": "Joke(setup='Dlaczego programiści nie mogą zjeść obiadu?', punchline='Bo mają za dużo pętli!')"
     },
     "execution_count": 8,
     "metadata": {},
     "output_type": "execute_result"
    }
   ],
   "source": [
    "joke_chain = joke_template | chat_model | joke_parser\n",
    "joke_chain.invoke({'joke_topic': 'programming', 'joke_language': 'Polish'})"
   ],
   "metadata": {
    "collapsed": false,
    "ExecuteTime": {
     "end_time": "2023-11-30T16:18:32.165413Z",
     "start_time": "2023-11-30T16:18:29.996592Z"
    }
   },
   "id": "9d7a36c77477ec03"
  },
  {
   "cell_type": "code",
   "execution_count": 9,
   "outputs": [
    {
     "data": {
      "text/plain": "[Joke(setup='Pourquoi les programmeurs préfèrent-ils les chats ?', punchline=\"Parce qu'ils ont peur des dogs.\"),\n Joke(setup='¿Por qué los programadores prefieren el invierno?', punchline='Porque el invierno es cuando vienen los bugs')]"
     },
     "execution_count": 9,
     "metadata": {},
     "output_type": "execute_result"
    }
   ],
   "source": [
    "joke_chain.batch([{'joke_topic': 'programming', 'joke_language': 'French'}, {'joke_topic': 'programming', 'joke_language': 'Spanish'}])"
   ],
   "metadata": {
    "collapsed": false,
    "ExecuteTime": {
     "end_time": "2023-11-30T16:19:02.867711Z",
     "start_time": "2023-11-30T16:19:01.379023Z"
    }
   },
   "id": "e43b1cd24742bad3"
  },
  {
   "cell_type": "markdown",
   "source": [
    "## Goal\n",
    "\n",
    "We're going to create a chain of chains that:\n",
    "- generates a joke with setup and punchline structure\n",
    "- transforms the joke structure back into a string\n",
    "- rates the joke"
   ],
   "metadata": {
    "collapsed": false
   },
   "id": "f2d039bb86f88c64"
  },
  {
   "cell_type": "code",
   "execution_count": 10,
   "outputs": [],
   "source": [
    "class JokeRating(BaseModel):\n",
    "    joke: Joke = Field(description=\"joke that was rated\")\n",
    "    rating: int = Field(description=\"rating of the joke from 1 to 5\")\n",
    "    reason: str = Field(description=\"reason for the rating\")\n",
    "    \n",
    "joke_rating_parser = PydanticOutputParser(pydantic_object=JokeRating)\n",
    "\n",
    "joke_rating_template = PromptTemplate.from_template(\"Rate how funny the joke is from 1 to 5 and provide a reason for the rating. Joke: {joke}. Format instructions: {format_instructions}\", partial_variables={'format_instructions': joke_rating_parser.get_format_instructions()})\n",
    "\n",
    "rate_chain = joke_rating_template | chat_model | joke_rating_parser\n"
   ],
   "metadata": {
    "collapsed": false,
    "ExecuteTime": {
     "end_time": "2023-11-30T16:20:48.973513Z",
     "start_time": "2023-11-30T16:20:48.969788Z"
    }
   },
   "id": "c9d285458e3344ca"
  },
  {
   "cell_type": "code",
   "execution_count": 12,
   "outputs": [
    {
     "data": {
      "text/plain": "'Dlaczego programista nosi okulary 3D? Bo lubi widzieć w trzech wymiarach!'"
     },
     "execution_count": 12,
     "metadata": {},
     "output_type": "execute_result"
    }
   ],
   "source": [
    "from langchain.schema.runnable import RunnableLambda\n",
    "\n",
    "transform_joke_chain = {'joke': joke_chain} | RunnableLambda(lambda x: f\"{x['joke'].setup} {x['joke'].punchline}\")\n",
    "transform_joke_chain.invoke({'joke_topic': 'programming', 'joke_language': 'polish'})"
   ],
   "metadata": {
    "collapsed": false,
    "ExecuteTime": {
     "end_time": "2023-11-30T16:22:39.354601Z",
     "start_time": "2023-11-30T16:22:37.680712Z"
    }
   },
   "id": "e3b4fa23fae5307e"
  },
  {
   "cell_type": "code",
   "execution_count": 13,
   "outputs": [
    {
     "data": {
      "text/plain": "{'joke': {'setup': 'Why do programmers prefer dark mode?',\n  'punchline': 'Because light attracts bugs.'},\n 'rating': 4,\n 'reason': \"The joke plays on the common knowledge that bugs are attracted to light, which programmers would want to avoid. It's a clever twist on the concept and is likely to be appreciated by those in the programming field.\"}"
     },
     "execution_count": 13,
     "metadata": {},
     "output_type": "execute_result"
    }
   ],
   "source": [
    "combined_chain = {\"joke\": transform_joke_chain} | rate_chain\n",
    "result = combined_chain.invoke({'joke_topic': 'programming', 'joke_language': 'english'})\n",
    "\n",
    "result.model_dump()"
   ],
   "metadata": {
    "collapsed": false,
    "ExecuteTime": {
     "end_time": "2023-11-30T16:23:45.733958Z",
     "start_time": "2023-11-30T16:23:41.808492Z"
    }
   },
   "id": "2d0a8f23ebc2b10e"
  }
 ],
 "metadata": {
  "kernelspec": {
   "display_name": "Python 3",
   "language": "python",
   "name": "python3"
  },
  "language_info": {
   "codemirror_mode": {
    "name": "ipython",
    "version": 2
   },
   "file_extension": ".py",
   "mimetype": "text/x-python",
   "name": "python",
   "nbconvert_exporter": "python",
   "pygments_lexer": "ipython2",
   "version": "2.7.6"
  }
 },
 "nbformat": 4,
 "nbformat_minor": 5
}
